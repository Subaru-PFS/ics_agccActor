{
 "cells": [
  {
   "cell_type": "code",
   "execution_count": 10,
   "id": "cb89f56f",
   "metadata": {},
   "outputs": [],
   "source": [
    "import yaml"
   ]
  },
  {
   "cell_type": "code",
   "execution_count": 11,
   "id": "92b67dca",
   "metadata": {},
   "outputs": [],
   "source": [
    "agCamParm={}\n",
    "agCamParm['1']={}\n",
    "agCamParm['2']={}\n",
    "agCamParm['3']={}\n",
    "agCamParm['4']={}\n",
    "agCamParm['5']={}\n",
    "agCamParm['6']={}\n",
    "\n",
    "agCamParm['1']['reg']=[25,500,10,1032,557,1048,10,1032]\n",
    "agCamParm['2']['reg']=[25,500,10,1032,557,1048,10,1032]\n",
    "agCamParm['3']['reg']=[25,480,10,1032,557,1048,10,1032]\n",
    "agCamParm['4']['reg']=[25,500,10,1032,570,1048,10,1032]\n",
    "agCamParm['5']['reg']=[25,500,10,1032,570,1048,10,1032]\n",
    "agCamParm['6']['reg']=[25,480,10,1032,548,1048,10,1032]\n",
    "\n",
    "agCamParm['1']['badCols']=[]\n",
    "agCamParm['2']['badCols']=[]\n",
    "agCamParm['3']['badCols']=[]\n",
    "agCamParm['4']['badCols']=[]\n",
    "agCamParm['5']['badCols']=[]\n",
    "agCamParm['6']['badCols']=[]\n"
   ]
  },
  {
   "cell_type": "code",
   "execution_count": 12,
   "id": "316c8b54",
   "metadata": {},
   "outputs": [],
   "source": [
    "with open(\"agcCamParm.yaml\",\"w\") as file:\n",
    "    documents = yaml.dump(agCamParm, file)"
   ]
  },
  {
   "cell_type": "code",
   "execution_count": 13,
   "id": "4e6468e1",
   "metadata": {},
   "outputs": [],
   "source": []
  },
  {
   "cell_type": "code",
   "execution_count": null,
   "id": "241c192a",
   "metadata": {},
   "outputs": [],
   "source": []
  }
 ],
 "metadata": {
  "kernelspec": {
   "display_name": "Python 3 (ipykernel)",
   "language": "python",
   "name": "python3"
  },
  "language_info": {
   "codemirror_mode": {
    "name": "ipython",
    "version": 3
   },
   "file_extension": ".py",
   "mimetype": "text/x-python",
   "name": "python",
   "nbconvert_exporter": "python",
   "pygments_lexer": "ipython3",
   "version": "3.7.11"
  }
 },
 "nbformat": 4,
 "nbformat_minor": 5
}
